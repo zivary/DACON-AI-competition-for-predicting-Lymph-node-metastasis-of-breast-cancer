{
 "cells": [
  {
   "cell_type": "markdown",
   "id": "04af1b32",
   "metadata": {},
   "source": [
    "# train 이미지 전처리"
   ]
  },
  {
   "cell_type": "code",
   "execution_count": 1,
   "id": "02f5f698",
   "metadata": {
    "ExecuteTime": {
     "end_time": "2023-01-09T08:57:23.891007Z",
     "start_time": "2023-01-09T08:57:23.308070Z"
    }
   },
   "outputs": [],
   "source": [
    "import os\n",
    "import cv2\n",
    "import numpy as np\n",
    "import pandas as pd\n",
    "import random\n",
    "pd.set_option('display.max.colwidth', 150)\n",
    "pd.set_option('display.max.row', 500)\n",
    "\n",
    "import warnings\n",
    "warnings.filterwarnings('ignore')\n",
    "import random\n",
    "from tqdm.auto import tqdm"
   ]
  },
  {
   "cell_type": "markdown",
   "id": "8d8cca8f",
   "metadata": {
    "ExecuteTime": {
     "end_time": "2022-12-01T09:03:57.852216Z",
     "start_time": "2022-12-01T09:03:57.848136Z"
    }
   },
   "source": [
    "## Image Crop"
   ]
  },
  {
   "cell_type": "markdown",
   "id": "c61f2def",
   "metadata": {
    "ExecuteTime": {
     "end_time": "2022-12-01T09:03:57.852216Z",
     "start_time": "2022-12-01T09:03:57.848136Z"
    }
   },
   "source": [
    "### 이미지 자르는 사용자 함수"
   ]
  },
  {
   "cell_type": "code",
   "execution_count": 2,
   "id": "974ceee8",
   "metadata": {
    "ExecuteTime": {
     "end_time": "2022-12-01T11:11:57.405133Z",
     "start_time": "2022-12-01T11:11:57.401359Z"
    }
   },
   "outputs": [],
   "source": [
    "def Img_Crop(input_dir, input_img_name_list, crop_size, flag):\n",
    "    print(f'The number of images : {len(os.listdir(input_dir))}')\n",
    "    print('img_crop 중...')\n",
    "    output_dir = input_dir+'_cropped'\n",
    "\n",
    "    if ~os.path.exists(output_dir):\n",
    "        os.makedirs(output_dir)\n",
    "\n",
    "    for img_name in tqdm(input_img_name_list):\n",
    "        img = os.path.join(input_dir, img_name)\n",
    "        cv2_img = cv2.imread(img, flag)\n",
    "        for row, start_y_pixel in enumerate(range(0, cv2_img.shape[0], crop_size)):\n",
    "            for col, start_x_pixel in enumerate(range(0, cv2_img.shape[1], crop_size)):\n",
    "                croped_img = cv2_img[start_y_pixel:start_y_pixel +\n",
    "                                     crop_size, start_x_pixel:start_x_pixel+crop_size]\n",
    "                cv2.imwrite(\n",
    "                    f'{output_dir}/{img_name.split(\".\")[0]}_({row+1:03d},{col+1:03d}).png', croped_img)\n",
    "    print(f'The number of cropped images : {len(os.listdir(output_dir))}')\n",
    "    print('완료')"
   ]
  },
  {
   "cell_type": "markdown",
   "id": "2767c26b",
   "metadata": {},
   "source": [
    "### train 이미지 자르기"
   ]
  },
  {
   "cell_type": "code",
   "execution_count": 3,
   "id": "7cc7094d",
   "metadata": {
    "ExecuteTime": {
     "end_time": "2022-12-01T11:22:17.586683Z",
     "start_time": "2022-12-01T11:11:57.407044Z"
    }
   },
   "outputs": [
    {
     "name": "stdout",
     "output_type": "stream",
     "text": [
      "The number of images : 1000\n",
      "img_crop 중...\n"
     ]
    },
    {
     "data": {
      "application/vnd.jupyter.widget-view+json": {
       "model_id": "9e48382fe6a54d35b456e6d7d4c22f9f",
       "version_major": 2,
       "version_minor": 0
      },
      "text/plain": [
       "  0%|          | 0/1000 [00:00<?, ?it/s]"
      ]
     },
     "metadata": {},
     "output_type": "display_data"
    },
    {
     "name": "stdout",
     "output_type": "stream",
     "text": [
      "The number of cropped images : 277808\n",
      "완료\n"
     ]
    }
   ],
   "source": [
    "# 크롭하려는 img 폴더\n",
    "input_dir = './img_data/train_imgs'\n",
    "\n",
    "# 크롭하려는 img name list\n",
    "input_img_name_list = sorted(os.listdir(input_dir))\n",
    "\n",
    "# 크롭할 사이즈\n",
    "crop_size = 256\n",
    "\n",
    "# 이미지 불러오는 형식\n",
    "flag = cv2.IMREAD_UNCHANGED\n",
    "\n",
    "# image cropping\n",
    "Img_Crop(input_dir, input_img_name_list, crop_size, flag)"
   ]
  },
  {
   "cell_type": "code",
   "execution_count": 4,
   "id": "64721ad5",
   "metadata": {
    "ExecuteTime": {
     "end_time": "2022-12-01T12:46:25.688167Z",
     "start_time": "2022-12-01T11:22:17.591511Z"
    },
    "scrolled": true
   },
   "outputs": [
    {
     "name": "stdout",
     "output_type": "stream",
     "text": [
      "277808\n"
     ]
    },
    {
     "data": {
      "text/html": [
       "<div>\n",
       "<style scoped>\n",
       "    .dataframe tbody tr th:only-of-type {\n",
       "        vertical-align: middle;\n",
       "    }\n",
       "\n",
       "    .dataframe tbody tr th {\n",
       "        vertical-align: top;\n",
       "    }\n",
       "\n",
       "    .dataframe thead th {\n",
       "        text-align: right;\n",
       "    }\n",
       "</style>\n",
       "<table border=\"1\" class=\"dataframe\">\n",
       "  <thead>\n",
       "    <tr style=\"text-align: right;\">\n",
       "      <th></th>\n",
       "      <th>original_img_name</th>\n",
       "      <th>img_name</th>\n",
       "      <th>density</th>\n",
       "    </tr>\n",
       "  </thead>\n",
       "  <tbody>\n",
       "    <tr>\n",
       "      <th>0</th>\n",
       "      <td>BC_01_0001</td>\n",
       "      <td>BC_01_0001_(001,001).png</td>\n",
       "      <td>NaN</td>\n",
       "    </tr>\n",
       "    <tr>\n",
       "      <th>1</th>\n",
       "      <td>BC_01_0001</td>\n",
       "      <td>BC_01_0001_(001,002).png</td>\n",
       "      <td>NaN</td>\n",
       "    </tr>\n",
       "    <tr>\n",
       "      <th>2</th>\n",
       "      <td>BC_01_0001</td>\n",
       "      <td>BC_01_0001_(001,003).png</td>\n",
       "      <td>NaN</td>\n",
       "    </tr>\n",
       "    <tr>\n",
       "      <th>3</th>\n",
       "      <td>BC_01_0001</td>\n",
       "      <td>BC_01_0001_(001,004).png</td>\n",
       "      <td>NaN</td>\n",
       "    </tr>\n",
       "    <tr>\n",
       "      <th>4</th>\n",
       "      <td>BC_01_0001</td>\n",
       "      <td>BC_01_0001_(001,005).png</td>\n",
       "      <td>NaN</td>\n",
       "    </tr>\n",
       "    <tr>\n",
       "      <th>...</th>\n",
       "      <td>...</td>\n",
       "      <td>...</td>\n",
       "      <td>...</td>\n",
       "    </tr>\n",
       "    <tr>\n",
       "      <th>277803</th>\n",
       "      <td>BC_01_3518</td>\n",
       "      <td>BC_01_3518_(009,023).png</td>\n",
       "      <td>NaN</td>\n",
       "    </tr>\n",
       "    <tr>\n",
       "      <th>277804</th>\n",
       "      <td>BC_01_3518</td>\n",
       "      <td>BC_01_3518_(009,024).png</td>\n",
       "      <td>NaN</td>\n",
       "    </tr>\n",
       "    <tr>\n",
       "      <th>277805</th>\n",
       "      <td>BC_01_3518</td>\n",
       "      <td>BC_01_3518_(009,025).png</td>\n",
       "      <td>NaN</td>\n",
       "    </tr>\n",
       "    <tr>\n",
       "      <th>277806</th>\n",
       "      <td>BC_01_3518</td>\n",
       "      <td>BC_01_3518_(009,026).png</td>\n",
       "      <td>NaN</td>\n",
       "    </tr>\n",
       "    <tr>\n",
       "      <th>277807</th>\n",
       "      <td>BC_01_3518</td>\n",
       "      <td>BC_01_3518_(009,027).png</td>\n",
       "      <td>NaN</td>\n",
       "    </tr>\n",
       "  </tbody>\n",
       "</table>\n",
       "<p>277808 rows × 3 columns</p>\n",
       "</div>"
      ],
      "text/plain": [
       "       original_img_name                  img_name density\n",
       "0             BC_01_0001  BC_01_0001_(001,001).png     NaN\n",
       "1             BC_01_0001  BC_01_0001_(001,002).png     NaN\n",
       "2             BC_01_0001  BC_01_0001_(001,003).png     NaN\n",
       "3             BC_01_0001  BC_01_0001_(001,004).png     NaN\n",
       "4             BC_01_0001  BC_01_0001_(001,005).png     NaN\n",
       "...                  ...                       ...     ...\n",
       "277803        BC_01_3518  BC_01_3518_(009,023).png     NaN\n",
       "277804        BC_01_3518  BC_01_3518_(009,024).png     NaN\n",
       "277805        BC_01_3518  BC_01_3518_(009,025).png     NaN\n",
       "277806        BC_01_3518  BC_01_3518_(009,026).png     NaN\n",
       "277807        BC_01_3518  BC_01_3518_(009,027).png     NaN\n",
       "\n",
       "[277808 rows x 3 columns]"
      ]
     },
     "metadata": {},
     "output_type": "display_data"
    },
    {
     "data": {
      "application/vnd.jupyter.widget-view+json": {
       "model_id": "e4b1069e7276453284a84ad77976d7a6",
       "version_major": 2,
       "version_minor": 0
      },
      "text/plain": [
       "  0%|          | 0/277808 [00:00<?, ?it/s]"
      ]
     },
     "metadata": {},
     "output_type": "display_data"
    },
    {
     "data": {
      "text/html": [
       "<div>\n",
       "<style scoped>\n",
       "    .dataframe tbody tr th:only-of-type {\n",
       "        vertical-align: middle;\n",
       "    }\n",
       "\n",
       "    .dataframe tbody tr th {\n",
       "        vertical-align: top;\n",
       "    }\n",
       "\n",
       "    .dataframe thead th {\n",
       "        text-align: right;\n",
       "    }\n",
       "</style>\n",
       "<table border=\"1\" class=\"dataframe\">\n",
       "  <thead>\n",
       "    <tr style=\"text-align: right;\">\n",
       "      <th></th>\n",
       "      <th>original_img_name</th>\n",
       "      <th>img_name</th>\n",
       "      <th>density</th>\n",
       "    </tr>\n",
       "  </thead>\n",
       "  <tbody>\n",
       "    <tr>\n",
       "      <th>0</th>\n",
       "      <td>BC_01_0001</td>\n",
       "      <td>BC_01_0001_(001,001).png</td>\n",
       "      <td>0.008011</td>\n",
       "    </tr>\n",
       "    <tr>\n",
       "      <th>1</th>\n",
       "      <td>BC_01_0001</td>\n",
       "      <td>BC_01_0001_(001,002).png</td>\n",
       "      <td>0.001144</td>\n",
       "    </tr>\n",
       "    <tr>\n",
       "      <th>2</th>\n",
       "      <td>BC_01_0001</td>\n",
       "      <td>BC_01_0001_(001,003).png</td>\n",
       "      <td>0.001724</td>\n",
       "    </tr>\n",
       "    <tr>\n",
       "      <th>3</th>\n",
       "      <td>BC_01_0001</td>\n",
       "      <td>BC_01_0001_(001,004).png</td>\n",
       "      <td>0.005386</td>\n",
       "    </tr>\n",
       "    <tr>\n",
       "      <th>4</th>\n",
       "      <td>BC_01_0001</td>\n",
       "      <td>BC_01_0001_(001,005).png</td>\n",
       "      <td>0.143814</td>\n",
       "    </tr>\n",
       "    <tr>\n",
       "      <th>...</th>\n",
       "      <td>...</td>\n",
       "      <td>...</td>\n",
       "      <td>...</td>\n",
       "    </tr>\n",
       "    <tr>\n",
       "      <th>277803</th>\n",
       "      <td>BC_01_3518</td>\n",
       "      <td>BC_01_3518_(009,023).png</td>\n",
       "      <td>0.00058</td>\n",
       "    </tr>\n",
       "    <tr>\n",
       "      <th>277804</th>\n",
       "      <td>BC_01_3518</td>\n",
       "      <td>BC_01_3518_(009,024).png</td>\n",
       "      <td>0.023514</td>\n",
       "    </tr>\n",
       "    <tr>\n",
       "      <th>277805</th>\n",
       "      <td>BC_01_3518</td>\n",
       "      <td>BC_01_3518_(009,025).png</td>\n",
       "      <td>0.173904</td>\n",
       "    </tr>\n",
       "    <tr>\n",
       "      <th>277806</th>\n",
       "      <td>BC_01_3518</td>\n",
       "      <td>BC_01_3518_(009,026).png</td>\n",
       "      <td>0.165237</td>\n",
       "    </tr>\n",
       "    <tr>\n",
       "      <th>277807</th>\n",
       "      <td>BC_01_3518</td>\n",
       "      <td>BC_01_3518_(009,027).png</td>\n",
       "      <td>0.08902</td>\n",
       "    </tr>\n",
       "  </tbody>\n",
       "</table>\n",
       "<p>277808 rows × 3 columns</p>\n",
       "</div>"
      ],
      "text/plain": [
       "       original_img_name                  img_name   density\n",
       "0             BC_01_0001  BC_01_0001_(001,001).png  0.008011\n",
       "1             BC_01_0001  BC_01_0001_(001,002).png  0.001144\n",
       "2             BC_01_0001  BC_01_0001_(001,003).png  0.001724\n",
       "3             BC_01_0001  BC_01_0001_(001,004).png  0.005386\n",
       "4             BC_01_0001  BC_01_0001_(001,005).png  0.143814\n",
       "...                  ...                       ...       ...\n",
       "277803        BC_01_3518  BC_01_3518_(009,023).png   0.00058\n",
       "277804        BC_01_3518  BC_01_3518_(009,024).png  0.023514\n",
       "277805        BC_01_3518  BC_01_3518_(009,025).png  0.173904\n",
       "277806        BC_01_3518  BC_01_3518_(009,026).png  0.165237\n",
       "277807        BC_01_3518  BC_01_3518_(009,027).png   0.08902\n",
       "\n",
       "[277808 rows x 3 columns]"
      ]
     },
     "execution_count": 4,
     "metadata": {},
     "output_type": "execute_result"
    }
   ],
   "source": [
    "input_dir = '../../open/train_imgs_cropped'\n",
    "\n",
    "# img name list\n",
    "input_img_name_list = sorted(os.listdir(input_dir))\n",
    "# print(input_img_name_list[:10])\n",
    "print(len(input_img_name_list))\n",
    "\n",
    "df = pd.DataFrame(columns=['original_img_name', 'img_name', 'density'])\n",
    "df['img_name'] = input_img_name_list\n",
    "df.fillna(0)\n",
    "df['original_img_name'] = df['img_name'].apply(lambda x : x[:10])\n",
    "display(df)\n",
    "\n",
    "for img_name in tqdm(input_img_name_list):\n",
    "    img = os.path.join(input_dir, img_name)\n",
    "    cv2_img = cv2.imread(img, cv2.IMREAD_GRAYSCALE)\n",
    "    df['density'][df['img_name'] == img_name] = len(cv2_img[cv2_img!=0])/(256*256)\n",
    "\n",
    "df.to_pickle('./train_imgs_cropped_density.pkl')\n",
    "df = pd.read_pickle('./train_imgs_cropped_density.pkl')\n",
    "df"
   ]
  },
  {
   "cell_type": "code",
   "execution_count": 7,
   "id": "b92254d1",
   "metadata": {
    "ExecuteTime": {
     "end_time": "2022-12-01T12:59:11.090624Z",
     "start_time": "2022-12-01T12:59:10.901429Z"
    }
   },
   "outputs": [
    {
     "data": {
      "text/plain": [
       "1000"
      ]
     },
     "execution_count": 7,
     "metadata": {},
     "output_type": "execute_result"
    }
   ],
   "source": [
    "df.to_pickle('./train_imgs_cropped_density.pkl')\n",
    "df = pd.read_pickle('./train_imgs_cropped_density.pkl')\n",
    "len(df.original_img_name.unique())\n",
    "# img_list = df.img_name[df.density >= 0.6]\n",
    "# img_list"
   ]
  },
  {
   "cell_type": "code",
   "execution_count": 12,
   "id": "88d5e5c6",
   "metadata": {
    "ExecuteTime": {
     "end_time": "2022-12-01T13:00:41.086741Z",
     "start_time": "2022-12-01T13:00:40.942554Z"
    }
   },
   "outputs": [
    {
     "name": "stdout",
     "output_type": "stream",
     "text": [
      "/Users/mac/Downloads/노가다/WorkSpace/train_imgs_전처리\r\n"
     ]
    }
   ],
   "source": [
    "!pwd"
   ]
  },
  {
   "cell_type": "code",
   "execution_count": 15,
   "id": "cd05c469",
   "metadata": {
    "ExecuteTime": {
     "end_time": "2022-12-01T13:01:10.338910Z",
     "start_time": "2022-12-01T13:01:10.233490Z"
    }
   },
   "outputs": [],
   "source": [
    "df.to_pickle('./train_imgs_cropped_density.pkl')"
   ]
  },
  {
   "cell_type": "code",
   "execution_count": 14,
   "id": "8519f3e9",
   "metadata": {
    "ExecuteTime": {
     "end_time": "2022-12-01T13:01:02.501950Z",
     "start_time": "2022-12-01T13:01:02.486641Z"
    }
   },
   "outputs": [
    {
     "data": {
      "text/html": [
       "<div>\n",
       "<style scoped>\n",
       "    .dataframe tbody tr th:only-of-type {\n",
       "        vertical-align: middle;\n",
       "    }\n",
       "\n",
       "    .dataframe tbody tr th {\n",
       "        vertical-align: top;\n",
       "    }\n",
       "\n",
       "    .dataframe thead th {\n",
       "        text-align: right;\n",
       "    }\n",
       "</style>\n",
       "<table border=\"1\" class=\"dataframe\">\n",
       "  <thead>\n",
       "    <tr style=\"text-align: right;\">\n",
       "      <th></th>\n",
       "      <th>original_img_name</th>\n",
       "      <th>img_name</th>\n",
       "      <th>density</th>\n",
       "    </tr>\n",
       "  </thead>\n",
       "  <tbody>\n",
       "    <tr>\n",
       "      <th>0</th>\n",
       "      <td>BC_01_0001</td>\n",
       "      <td>BC_01_0001_(001,001).png</td>\n",
       "      <td>0.008011</td>\n",
       "    </tr>\n",
       "    <tr>\n",
       "      <th>1</th>\n",
       "      <td>BC_01_0001</td>\n",
       "      <td>BC_01_0001_(001,002).png</td>\n",
       "      <td>0.001144</td>\n",
       "    </tr>\n",
       "    <tr>\n",
       "      <th>2</th>\n",
       "      <td>BC_01_0001</td>\n",
       "      <td>BC_01_0001_(001,003).png</td>\n",
       "      <td>0.001724</td>\n",
       "    </tr>\n",
       "    <tr>\n",
       "      <th>3</th>\n",
       "      <td>BC_01_0001</td>\n",
       "      <td>BC_01_0001_(001,004).png</td>\n",
       "      <td>0.005386</td>\n",
       "    </tr>\n",
       "    <tr>\n",
       "      <th>4</th>\n",
       "      <td>BC_01_0001</td>\n",
       "      <td>BC_01_0001_(001,005).png</td>\n",
       "      <td>0.143814</td>\n",
       "    </tr>\n",
       "    <tr>\n",
       "      <th>...</th>\n",
       "      <td>...</td>\n",
       "      <td>...</td>\n",
       "      <td>...</td>\n",
       "    </tr>\n",
       "    <tr>\n",
       "      <th>277803</th>\n",
       "      <td>BC_01_3518</td>\n",
       "      <td>BC_01_3518_(009,023).png</td>\n",
       "      <td>0.00058</td>\n",
       "    </tr>\n",
       "    <tr>\n",
       "      <th>277804</th>\n",
       "      <td>BC_01_3518</td>\n",
       "      <td>BC_01_3518_(009,024).png</td>\n",
       "      <td>0.023514</td>\n",
       "    </tr>\n",
       "    <tr>\n",
       "      <th>277805</th>\n",
       "      <td>BC_01_3518</td>\n",
       "      <td>BC_01_3518_(009,025).png</td>\n",
       "      <td>0.173904</td>\n",
       "    </tr>\n",
       "    <tr>\n",
       "      <th>277806</th>\n",
       "      <td>BC_01_3518</td>\n",
       "      <td>BC_01_3518_(009,026).png</td>\n",
       "      <td>0.165237</td>\n",
       "    </tr>\n",
       "    <tr>\n",
       "      <th>277807</th>\n",
       "      <td>BC_01_3518</td>\n",
       "      <td>BC_01_3518_(009,027).png</td>\n",
       "      <td>0.08902</td>\n",
       "    </tr>\n",
       "  </tbody>\n",
       "</table>\n",
       "<p>277808 rows × 3 columns</p>\n",
       "</div>"
      ],
      "text/plain": [
       "       original_img_name                  img_name   density\n",
       "0             BC_01_0001  BC_01_0001_(001,001).png  0.008011\n",
       "1             BC_01_0001  BC_01_0001_(001,002).png  0.001144\n",
       "2             BC_01_0001  BC_01_0001_(001,003).png  0.001724\n",
       "3             BC_01_0001  BC_01_0001_(001,004).png  0.005386\n",
       "4             BC_01_0001  BC_01_0001_(001,005).png  0.143814\n",
       "...                  ...                       ...       ...\n",
       "277803        BC_01_3518  BC_01_3518_(009,023).png   0.00058\n",
       "277804        BC_01_3518  BC_01_3518_(009,024).png  0.023514\n",
       "277805        BC_01_3518  BC_01_3518_(009,025).png  0.173904\n",
       "277806        BC_01_3518  BC_01_3518_(009,026).png  0.165237\n",
       "277807        BC_01_3518  BC_01_3518_(009,027).png   0.08902\n",
       "\n",
       "[277808 rows x 3 columns]"
      ]
     },
     "execution_count": 14,
     "metadata": {},
     "output_type": "execute_result"
    }
   ],
   "source": [
    "df"
   ]
  },
  {
   "cell_type": "code",
   "execution_count": null,
   "id": "be3184c4",
   "metadata": {},
   "outputs": [],
   "source": []
  }
 ],
 "metadata": {
  "kernelspec": {
   "display_name": "Python 3 (ipykernel)",
   "language": "python",
   "name": "python3"
  },
  "language_info": {
   "codemirror_mode": {
    "name": "ipython",
    "version": 3
   },
   "file_extension": ".py",
   "mimetype": "text/x-python",
   "name": "python",
   "nbconvert_exporter": "python",
   "pygments_lexer": "ipython3",
   "version": "3.8.15"
  },
  "toc": {
   "base_numbering": 1,
   "nav_menu": {},
   "number_sections": true,
   "sideBar": true,
   "skip_h1_title": false,
   "title_cell": "Table of Contents",
   "title_sidebar": "Contents",
   "toc_cell": false,
   "toc_position": {},
   "toc_section_display": true,
   "toc_window_display": true
  }
 },
 "nbformat": 4,
 "nbformat_minor": 5
}
