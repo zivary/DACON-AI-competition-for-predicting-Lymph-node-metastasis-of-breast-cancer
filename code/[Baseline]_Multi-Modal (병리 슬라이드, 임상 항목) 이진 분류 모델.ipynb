{
 "cells": [
  {
   "cell_type": "markdown",
   "id": "a2bcba5f-002e-4f49-9622-ada6117faf0a",
   "metadata": {},
   "source": [
    "## Import"
   ]
  },
  {
   "cell_type": "code",
   "execution_count": 1,
   "id": "2b0d9b68-7102-4eca-9543-3b9b8acafc6e",
   "metadata": {
    "ExecuteTime": {
     "end_time": "2022-12-26T15:22:50.741170Z",
     "start_time": "2022-12-26T15:22:49.181384Z"
    }
   },
   "outputs": [
    {
     "name": "stderr",
     "output_type": "stream",
     "text": [
      "/opt/homebrew/Caskroom/miniforge/base/envs/dacon/lib/python3.8/site-packages/tqdm/auto.py:22: TqdmWarning: IProgress not found. Please update jupyter and ipywidgets. See https://ipywidgets.readthedocs.io/en/stable/user_install.html\n",
      "  from .autonotebook import tqdm as notebook_tqdm\n"
     ]
    }
   ],
   "source": [
    "import random\n",
    "import pandas as pd\n",
    "import numpy as np\n",
    "import os\n",
    "import cv2\n",
    "from tqdm.auto import tqdm\n",
    "\n",
    "import torch\n",
    "import torch.nn as nn\n",
    "import torch.optim as optim\n",
    "import torch.nn.functional as F\n",
    "from torch.utils.data import Dataset, DataLoader\n",
    "\n",
    "import albumentations as A\n",
    "from albumentations.pytorch.transforms import ToTensorV2\n",
    "\n",
    "import torchvision.models as models\n",
    "\n",
    "from sklearn import metrics\n",
    "from sklearn.preprocessing import StandardScaler, LabelEncoder\n",
    "\n",
    "from sklearn.model_selection import train_test_split\n",
    "\n",
    "import warnings\n",
    "warnings.filterwarnings(action='ignore') "
   ]
  },
  {
   "cell_type": "code",
   "execution_count": 2,
   "id": "d13862e3-bb27-47af-9b58-a9fbf804df71",
   "metadata": {
    "ExecuteTime": {
     "end_time": "2022-12-26T15:22:50.756092Z",
     "start_time": "2022-12-26T15:22:50.742729Z"
    }
   },
   "outputs": [
    {
     "data": {
      "text/plain": [
       "device(type='mps')"
      ]
     },
     "execution_count": 2,
     "metadata": {},
     "output_type": "execute_result"
    }
   ],
   "source": [
    "# device = torch.device('cuda') if torch.cuda.is_available() else torch.device('cpu')\n",
    "device = torch.device('mps:0' if torch.backends.mps.is_available() else 'cpu')\n",
    "device"
   ]
  },
  {
   "cell_type": "markdown",
   "id": "fc7df3f2-62d0-4499-a46e-47d01699def0",
   "metadata": {},
   "source": [
    "## Hyperparameter Setting"
   ]
  },
  {
   "cell_type": "code",
   "execution_count": 3,
   "id": "c3367399-9798-4e38-967b-fd2320b9a2b2",
   "metadata": {
    "ExecuteTime": {
     "end_time": "2022-12-26T15:22:50.759785Z",
     "start_time": "2022-12-26T15:22:50.758150Z"
    }
   },
   "outputs": [],
   "source": [
    "CFG = {\n",
    "    'IMG_SIZE':512,\n",
    "    'EPOCHS':5,\n",
    "    'LEARNING_RATE':1e-4,\n",
    "    'BATCH_SIZE':16,\n",
    "    'SEED':41\n",
    "}"
   ]
  },
  {
   "cell_type": "markdown",
   "id": "4254e860-ff82-43ba-bfa3-fcee4eb3ddbd",
   "metadata": {},
   "source": [
    "## Fixed RandomSeed"
   ]
  },
  {
   "cell_type": "code",
   "execution_count": 4,
   "id": "101a714b-71b6-4475-a4ce-fa5f98bc2731",
   "metadata": {
    "ExecuteTime": {
     "end_time": "2022-12-26T15:22:50.764445Z",
     "start_time": "2022-12-26T15:22:50.760833Z"
    }
   },
   "outputs": [],
   "source": [
    "def seed_everything(seed):\n",
    "    random.seed(seed)\n",
    "    os.environ['PYTHONHASHSEED'] = str(seed)\n",
    "    np.random.seed(seed)\n",
    "    torch.manual_seed(seed)\n",
    "    torch.cuda.manual_seed(seed)\n",
    "    torch.backends.cudnn.deterministic = True\n",
    "    torch.backends.cudnn.benchmark = True\n",
    "\n",
    "seed_everything(CFG['SEED']) # Seed 고정"
   ]
  },
  {
   "cell_type": "markdown",
   "id": "05a4172e-5791-446f-9616-35c09d8bf25a",
   "metadata": {},
   "source": [
    "## Data Pre-processing\n",
    "#### 1. Load Dataframe\n",
    "#### 2. 결측치 보완\n",
    "#### 3. Train / Validation Split\n",
    "#### 4. Numeric Feature Scaling / Categorical Featrue Label-Encoding"
   ]
  },
  {
   "cell_type": "code",
   "execution_count": 5,
   "id": "a62c78cd-4f40-4e98-b8a6-1b6f1d906b4d",
   "metadata": {
    "ExecuteTime": {
     "end_time": "2022-12-26T15:22:50.773208Z",
     "start_time": "2022-12-26T15:22:50.765310Z"
    }
   },
   "outputs": [],
   "source": [
    "train_df = pd.read_csv('./dataset/clinical_data/train.csv')\n",
    "test_df = pd.read_csv('./dataset/clinical_data/test.csv')"
   ]
  },
  {
   "cell_type": "code",
   "execution_count": 6,
   "id": "e4a78c09-8d19-4311-bbca-92712ee5678e",
   "metadata": {
    "ExecuteTime": {
     "end_time": "2022-12-26T15:22:50.778881Z",
     "start_time": "2022-12-26T15:22:50.774374Z"
    }
   },
   "outputs": [],
   "source": [
    "train_df['암의 장경'] = train_df['암의 장경'].fillna(train_df['암의 장경'].mean())\n",
    "train_df = train_df.fillna(0)\n",
    "\n",
    "test_df['암의 장경'] = test_df['암의 장경'].fillna(train_df['암의 장경'].mean())\n",
    "test_df = test_df.fillna(0)"
   ]
  },
  {
   "cell_type": "code",
   "execution_count": 7,
   "id": "8190632d-4da4-4fe4-906d-d232eec292d3",
   "metadata": {
    "ExecuteTime": {
     "end_time": "2022-12-26T15:22:50.783527Z",
     "start_time": "2022-12-26T15:22:50.779665Z"
    }
   },
   "outputs": [],
   "source": [
    "train_df, val_df, train_labels, val_labels = train_test_split(\n",
    "                                                    train_df.drop(columns=['N_category']), \n",
    "                                                    train_df['N_category'], \n",
    "                                                    test_size=0.2, \n",
    "                                                    random_state=CFG['SEED']\n",
    "                                                )"
   ]
  },
  {
   "cell_type": "code",
   "execution_count": 8,
   "id": "c6382e41-c2d7-4317-809a-88378bdf5c40",
   "metadata": {
    "ExecuteTime": {
     "end_time": "2022-12-26T15:22:50.796370Z",
     "start_time": "2022-12-26T15:22:50.784380Z"
    }
   },
   "outputs": [],
   "source": [
    "def get_values(value):\n",
    "    return value.values.reshape(-1, 1)\n",
    "\n",
    "numeric_cols = ['나이', '암의 장경', 'ER_Allred_score', 'PR_Allred_score', 'KI-67_LI_percent', 'HER2_SISH_ratio']\n",
    "ignore_cols = ['ID', 'img_path', 'mask_path', '수술연월일', 'N_category']\n",
    "\n",
    "for col in train_df.columns:\n",
    "    if col in ignore_cols:\n",
    "        continue\n",
    "    if col in numeric_cols:\n",
    "        scaler = StandardScaler()\n",
    "        train_df[col] = scaler.fit_transform(get_values(train_df[col]))\n",
    "        val_df[col] = scaler.transform(get_values(val_df[col]))\n",
    "        test_df[col] = scaler.transform(get_values(test_df[col]))\n",
    "    else:\n",
    "        le = LabelEncoder()\n",
    "        train_df[col] = le.fit_transform(get_values(train_df[col]))\n",
    "        val_df[col] = le.transform(get_values(val_df[col]))\n",
    "        test_df[col] = le.transform(get_values(test_df[col]))"
   ]
  },
  {
   "cell_type": "markdown",
   "id": "ac27ed36-8031-47a7-bd0d-a913513f2e8e",
   "metadata": {},
   "source": [
    "## CustomDataset"
   ]
  },
  {
   "cell_type": "code",
   "execution_count": 9,
   "id": "16fd60a5-24e2-4539-bfd0-1c374a641699",
   "metadata": {
    "ExecuteTime": {
     "end_time": "2022-12-26T15:22:50.802370Z",
     "start_time": "2022-12-26T15:22:50.798825Z"
    }
   },
   "outputs": [],
   "source": [
    "class CustomDataset(Dataset):\n",
    "    def __init__(self, medical_df, labels, transforms=None):\n",
    "        self.medical_df = medical_df\n",
    "        self.transforms = transforms\n",
    "        self.labels = labels\n",
    "        \n",
    "    def __getitem__(self, index):\n",
    "#         img_path = self.medical_df['img_path'].iloc[index]\n",
    "        img_path = './dataset/img_data/'+ self.medical_df['img_path'].iloc[index][2:]\n",
    "        image = cv2.imread(img_path)\n",
    "        image = cv2.cvtColor(image, cv2.COLOR_BGR2RGB)\n",
    "        \n",
    "        if self.transforms is not None:\n",
    "            image = self.transforms(image=image)['image']\n",
    "                \n",
    "        if self.labels is not None:\n",
    "            tabular = torch.Tensor(self.medical_df.drop(columns=['ID', 'img_path', 'mask_path', '수술연월일']).iloc[index])\n",
    "            label = self.labels[index]\n",
    "            return image, tabular, label\n",
    "        else:\n",
    "            tabular = torch.Tensor(self.medical_df.drop(columns=['ID', 'img_path', '수술연월일']).iloc[index])\n",
    "            return image, tabular\n",
    "        \n",
    "    def __len__(self):\n",
    "        return len(self.medical_df)"
   ]
  },
  {
   "cell_type": "code",
   "execution_count": 10,
   "id": "91a9e808-4666-4571-9ee1-353352aa6c62",
   "metadata": {
    "ExecuteTime": {
     "end_time": "2022-12-26T15:22:50.806172Z",
     "start_time": "2022-12-26T15:22:50.803602Z"
    }
   },
   "outputs": [],
   "source": [
    "train_transforms = A.Compose([\n",
    "                            A.HorizontalFlip(),\n",
    "                            A.VerticalFlip(),\n",
    "                            A.Rotate(limit=90, border_mode=cv2.BORDER_CONSTANT,p=0.3),\n",
    "                            A.Resize(CFG['IMG_SIZE'],CFG['IMG_SIZE']),\n",
    "                            A.Normalize(mean=(0.485, 0.456, 0.406), std=(0.229, 0.224, 0.225), max_pixel_value=255.0, always_apply=False, p=1.0),\n",
    "                            ToTensorV2()\n",
    "                            ])\n",
    "\n",
    "test_transforms = A.Compose([\n",
    "                            A.Resize(CFG['IMG_SIZE'],CFG['IMG_SIZE']),\n",
    "                            A.Normalize(mean=(0.485, 0.456, 0.406), std=(0.229, 0.224, 0.225), max_pixel_value=255.0, always_apply=False, p=1.0),\n",
    "                            ToTensorV2()\n",
    "                            ])"
   ]
  },
  {
   "cell_type": "code",
   "execution_count": 11,
   "id": "9d880481-1965-499d-9caa-fdfa8526f789",
   "metadata": {
    "ExecuteTime": {
     "end_time": "2022-12-26T15:22:50.809628Z",
     "start_time": "2022-12-26T15:22:50.807321Z"
    }
   },
   "outputs": [],
   "source": [
    "train_dataset = CustomDataset(train_df, train_labels.values, train_transforms)\n",
    "train_loader = DataLoader(train_dataset, batch_size = CFG['BATCH_SIZE'], shuffle=True, num_workers=0)\n",
    "\n",
    "val_dataset = CustomDataset(val_df, val_labels.values, test_transforms)\n",
    "val_loader = DataLoader(val_dataset, batch_size=CFG['BATCH_SIZE'], shuffle=False, num_workers=0)"
   ]
  },
  {
   "cell_type": "markdown",
   "id": "39962463-032f-490a-a76d-c03991795f38",
   "metadata": {},
   "source": [
    "## Model Architecture"
   ]
  },
  {
   "cell_type": "code",
   "execution_count": 12,
   "id": "99256fc3-554b-4f69-abee-361281409e0d",
   "metadata": {
    "ExecuteTime": {
     "end_time": "2022-12-26T15:22:50.812877Z",
     "start_time": "2022-12-26T15:22:50.810695Z"
    }
   },
   "outputs": [],
   "source": [
    "class ImgFeatureExtractor(nn.Module):\n",
    "    def __init__(self):\n",
    "        super(ImgFeatureExtractor, self).__init__()\n",
    "        self.backbone = models.efficientnet_b0(pretrained=True)\n",
    "        self.embedding = nn.Linear(1000,512)\n",
    "        \n",
    "    def forward(self, x):\n",
    "        x = self.backbone(x)\n",
    "        x = self.embedding(x)\n",
    "        return x"
   ]
  },
  {
   "cell_type": "code",
   "execution_count": 13,
   "id": "d7658ff6-a8e1-4c74-85d5-12df02e9daea",
   "metadata": {
    "ExecuteTime": {
     "end_time": "2022-12-26T15:22:50.816261Z",
     "start_time": "2022-12-26T15:22:50.813881Z"
    }
   },
   "outputs": [],
   "source": [
    "class TabularFeatureExtractor(nn.Module):\n",
    "    def __init__(self):\n",
    "        super(TabularFeatureExtractor, self).__init__()\n",
    "        self.embedding = nn.Sequential(\n",
    "            nn.Linear(in_features=23, out_features=128),\n",
    "            nn.BatchNorm1d(128),\n",
    "            nn.LeakyReLU(),\n",
    "            nn.Linear(in_features=128, out_features=256),\n",
    "            nn.BatchNorm1d(256),\n",
    "            nn.LeakyReLU(),\n",
    "            nn.Linear(in_features=256, out_features=512),\n",
    "            nn.BatchNorm1d(512),\n",
    "            nn.LeakyReLU(),\n",
    "            nn.Linear(in_features=512, out_features=512)\n",
    "        )\n",
    "        \n",
    "    def forward(self, x):\n",
    "        x = self.embedding(x)\n",
    "        return x"
   ]
  },
  {
   "cell_type": "code",
   "execution_count": 14,
   "id": "3664c4d0-f1f2-4971-9090-4d6ee66309ae",
   "metadata": {
    "ExecuteTime": {
     "end_time": "2022-12-26T15:22:50.819716Z",
     "start_time": "2022-12-26T15:22:50.817393Z"
    }
   },
   "outputs": [],
   "source": [
    "class ClassificationModel(nn.Module):\n",
    "    def __init__(self):\n",
    "        super(ClassificationModel, self).__init__()\n",
    "        self.img_feature_extractor = ImgFeatureExtractor()\n",
    "        self.tabular_feature_extractor = TabularFeatureExtractor()\n",
    "        self.classifier = nn.Sequential(\n",
    "            nn.Linear(in_features=1024, out_features=1),\n",
    "            nn.Sigmoid(),\n",
    "        )\n",
    "        \n",
    "    def forward(self, img, tabular):\n",
    "        img_feature = self.img_feature_extractor(img)\n",
    "        tabular_feature = self.tabular_feature_extractor(tabular)\n",
    "        feature = torch.cat([img_feature, tabular_feature], dim=-1)\n",
    "        output = self.classifier(feature)\n",
    "        return output"
   ]
  },
  {
   "cell_type": "markdown",
   "id": "122af0aa-a1fd-4595-9488-35761e3cb596",
   "metadata": {},
   "source": [
    "## Train"
   ]
  },
  {
   "cell_type": "code",
   "execution_count": 15,
   "id": "a17df6b3-16c9-44dd-b0fd-ffb501fee749",
   "metadata": {
    "ExecuteTime": {
     "end_time": "2022-12-26T15:22:50.824262Z",
     "start_time": "2022-12-26T15:22:50.820810Z"
    }
   },
   "outputs": [],
   "source": [
    "def train(model, optimizer, train_loader, val_loader, scheduler, device):\n",
    "    model.to(device)\n",
    "    criterion = nn.BCEWithLogitsLoss().to(device)\n",
    "    \n",
    "    best_score = 0\n",
    "    best_model = None\n",
    "    \n",
    "    for epoch in range(1, CFG['EPOCHS']+1):\n",
    "        model.train()\n",
    "        train_loss = []\n",
    "        for img, tabular, label in tqdm(iter(train_loader)):\n",
    "            img = img.float().to(device)\n",
    "            tabular = tabular.float().to(device)\n",
    "            label = label.float().to(device)\n",
    "            \n",
    "            optimizer.zero_grad()\n",
    "            \n",
    "            model_pred = model(img, tabular)\n",
    "            \n",
    "            loss = criterion(model_pred, label.reshape(-1,1))\n",
    "            \n",
    "            loss.backward()\n",
    "            optimizer.step()\n",
    "            \n",
    "            train_loss.append(loss.item())\n",
    "        \n",
    "        val_loss, val_score = validation(model, criterion, val_loader, device)\n",
    "        print(f'Epoch [{epoch}], Train Loss : [{np.mean(train_loss):.5f}] Val Loss : [{val_loss:.5f}] Val Score : [{val_score:.5f}]')\n",
    "        \n",
    "        if scheduler is not None:\n",
    "            scheduler.step(val_score)\n",
    "        \n",
    "        if best_score < val_score:\n",
    "            best_score = val_score\n",
    "            best_model = model\n",
    "    \n",
    "    return best_model"
   ]
  },
  {
   "cell_type": "code",
   "execution_count": 16,
   "id": "d97677fb-6f07-454f-b38c-5c626e13efc8",
   "metadata": {
    "ExecuteTime": {
     "end_time": "2022-12-26T15:22:50.828680Z",
     "start_time": "2022-12-26T15:22:50.825527Z"
    }
   },
   "outputs": [],
   "source": [
    "def validation(model, criterion, val_loader, device):\n",
    "    model.eval()\n",
    "    pred_labels = []\n",
    "    true_labels = []\n",
    "    val_loss = []\n",
    "    threshold = 0.5\n",
    "    with torch.no_grad():\n",
    "        for img, tabular, label in tqdm(iter(val_loader)):\n",
    "            true_labels += label.tolist()\n",
    "            \n",
    "            img = img.float().to(device)\n",
    "            tabular = tabular.float().to(device)\n",
    "            label = label.float().to(device)\n",
    "            \n",
    "            model_pred = model(img, tabular)\n",
    "            \n",
    "            loss = criterion(model_pred, label.reshape(-1,1))\n",
    "            \n",
    "            val_loss.append(loss.item())\n",
    "            \n",
    "            model_pred = model_pred.squeeze(1).to('cpu')  \n",
    "            pred_labels += model_pred.tolist()\n",
    "    \n",
    "    pred_labels = np.where(np.array(pred_labels) > threshold, 1, 0)\n",
    "    val_score = metrics.f1_score(y_true=true_labels, y_pred=pred_labels, average='macro')\n",
    "    return np.mean(val_loss), val_score"
   ]
  },
  {
   "cell_type": "markdown",
   "id": "51da39f9-904f-4abd-a7d2-cdf29c4a6c24",
   "metadata": {},
   "source": [
    "## Run!!"
   ]
  },
  {
   "cell_type": "code",
   "execution_count": 17,
   "id": "86142d9a-68b7-4d04-8423-49d28025411d",
   "metadata": {
    "ExecuteTime": {
     "end_time": "2022-12-26T15:44:42.927225Z",
     "start_time": "2022-12-26T15:22:50.829723Z"
    },
    "tags": []
   },
   "outputs": [
    {
     "name": "stderr",
     "output_type": "stream",
     "text": [
      "100%|██████████████████████████████████████████████████████████████████████████████████████████████████████████████████████████████████████████████████████████████████████████████████████████████████████████████| 50/50 [03:37<00:00,  4.35s/it]\n",
      "100%|██████████████████████████████████████████████████████████████████████████████████████████████████████████████████████████████████████████████████████████████████████████████████████████████████████████████| 13/13 [00:42<00:00,  3.24s/it]\n"
     ]
    },
    {
     "name": "stdout",
     "output_type": "stream",
     "text": [
      "Epoch [1], Train Loss : [0.65377] Val Loss : [0.64015] Val Score : [0.70576]\n"
     ]
    },
    {
     "name": "stderr",
     "output_type": "stream",
     "text": [
      "100%|██████████████████████████████████████████████████████████████████████████████████████████████████████████████████████████████████████████████████████████████████████████████████████████████████████████████| 50/50 [03:37<00:00,  4.35s/it]\n",
      "100%|██████████████████████████████████████████████████████████████████████████████████████████████████████████████████████████████████████████████████████████████████████████████████████████████████████████████| 13/13 [00:42<00:00,  3.25s/it]\n"
     ]
    },
    {
     "name": "stdout",
     "output_type": "stream",
     "text": [
      "Epoch [2], Train Loss : [0.60233] Val Loss : [0.62728] Val Score : [0.69334]\n"
     ]
    },
    {
     "name": "stderr",
     "output_type": "stream",
     "text": [
      "100%|██████████████████████████████████████████████████████████████████████████████████████████████████████████████████████████████████████████████████████████████████████████████████████████████████████████████| 50/50 [03:40<00:00,  4.41s/it]\n",
      "100%|██████████████████████████████████████████████████████████████████████████████████████████████████████████████████████████████████████████████████████████████████████████████████████████████████████████████| 13/13 [00:42<00:00,  3.27s/it]\n"
     ]
    },
    {
     "name": "stdout",
     "output_type": "stream",
     "text": [
      "Epoch [3], Train Loss : [0.60113] Val Loss : [0.61934] Val Score : [0.73145]\n"
     ]
    },
    {
     "name": "stderr",
     "output_type": "stream",
     "text": [
      "100%|██████████████████████████████████████████████████████████████████████████████████████████████████████████████████████████████████████████████████████████████████████████████████████████████████████████████| 50/50 [03:42<00:00,  4.46s/it]\n",
      "100%|██████████████████████████████████████████████████████████████████████████████████████████████████████████████████████████████████████████████████████████████████████████████████████████████████████████████| 13/13 [00:42<00:00,  3.31s/it]\n"
     ]
    },
    {
     "name": "stdout",
     "output_type": "stream",
     "text": [
      "Epoch [4], Train Loss : [0.58353] Val Loss : [0.60339] Val Score : [0.74343]\n"
     ]
    },
    {
     "name": "stderr",
     "output_type": "stream",
     "text": [
      "100%|██████████████████████████████████████████████████████████████████████████████████████████████████████████████████████████████████████████████████████████████████████████████████████████████████████████████| 50/50 [03:41<00:00,  4.43s/it]\n",
      "100%|██████████████████████████████████████████████████████████████████████████████████████████████████████████████████████████████████████████████████████████████████████████████████████████████████████████████| 13/13 [00:42<00:00,  3.23s/it]"
     ]
    },
    {
     "name": "stdout",
     "output_type": "stream",
     "text": [
      "Epoch [5], Train Loss : [0.58425] Val Loss : [0.60828] Val Score : [0.74216]\n"
     ]
    },
    {
     "name": "stderr",
     "output_type": "stream",
     "text": [
      "\n"
     ]
    }
   ],
   "source": [
    "model = nn.DataParallel(ClassificationModel())\n",
    "model.eval()\n",
    "optimizer = torch.optim.Adam(params = model.parameters(), lr = CFG[\"LEARNING_RATE\"])\n",
    "scheduler = torch.optim.lr_scheduler.ReduceLROnPlateau(optimizer, mode='max', factor=0.5, patience=1, threshold_mode='abs',min_lr=1e-8, verbose=True)\n",
    "\n",
    "infer_model = train(model, optimizer, train_loader, val_loader, scheduler, device)"
   ]
  },
  {
   "cell_type": "markdown",
   "id": "2da10051-3fb0-4792-8132-cad92066ad28",
   "metadata": {},
   "source": [
    "## Inference"
   ]
  },
  {
   "cell_type": "code",
   "execution_count": 18,
   "id": "563df001-9223-4340-a37f-95b0d5d05bd6",
   "metadata": {
    "ExecuteTime": {
     "end_time": "2022-12-26T15:44:42.931055Z",
     "start_time": "2022-12-26T15:44:42.928859Z"
    }
   },
   "outputs": [],
   "source": [
    "test_dataset = CustomDataset(test_df, None, test_transforms)\n",
    "test_loader = DataLoader(test_dataset, batch_size=CFG['BATCH_SIZE'], shuffle=False, num_workers=0)"
   ]
  },
  {
   "cell_type": "code",
   "execution_count": 19,
   "id": "e2c21a4b-9e8e-4852-9275-54ade9cfb4db",
   "metadata": {
    "ExecuteTime": {
     "end_time": "2022-12-26T15:44:42.935295Z",
     "start_time": "2022-12-26T15:44:42.932287Z"
    }
   },
   "outputs": [],
   "source": [
    "def inference(model, test_loader, device):\n",
    "    model.to(device)\n",
    "    model.eval()\n",
    "    preds = []\n",
    "    threshold = 0.5\n",
    "    \n",
    "    with torch.no_grad():\n",
    "        for img, tabular in tqdm(iter(test_loader)):\n",
    "            img = img.float().to(device)\n",
    "            tabular = tabular.float().to(device)\n",
    "            \n",
    "            model_pred = model(img, tabular)\n",
    "            \n",
    "#             model_pred = model_pred.squeeze(1).to('cpu')\n",
    "            model_pred = model_pred.squeeze(1).to(device)\n",
    "            \n",
    "            \n",
    "            preds += model_pred.tolist()\n",
    "    \n",
    "    preds = np.where(np.array(preds) > threshold, 1, 0)\n",
    "    \n",
    "    return preds"
   ]
  },
  {
   "cell_type": "code",
   "execution_count": 20,
   "id": "f7d78c5f-3d55-40d7-ae2a-3ed03dc1d3bd",
   "metadata": {
    "ExecuteTime": {
     "end_time": "2022-12-26T15:45:35.800914Z",
     "start_time": "2022-12-26T15:44:42.936378Z"
    }
   },
   "outputs": [
    {
     "name": "stderr",
     "output_type": "stream",
     "text": [
      "100%|██████████████████████████████████████████████████████████████████████████████████████████████████████████████████████████████████████████████████████████████████████████████████████████████████████████████| 16/16 [00:52<00:00,  3.30s/it]\n"
     ]
    }
   ],
   "source": [
    "preds = inference(infer_model, test_loader, device)"
   ]
  },
  {
   "cell_type": "markdown",
   "id": "36ebff0f-1524-41b4-b03d-5e2efb0cb8e7",
   "metadata": {},
   "source": [
    "## Submission"
   ]
  },
  {
   "cell_type": "code",
   "execution_count": 21,
   "id": "532bd436-c05a-4daa-9041-8ab976af1370",
   "metadata": {
    "ExecuteTime": {
     "end_time": "2022-12-26T15:45:35.806266Z",
     "start_time": "2022-12-26T15:45:35.801835Z"
    }
   },
   "outputs": [],
   "source": [
    "submit = pd.read_csv('./sample_submission.csv')"
   ]
  },
  {
   "cell_type": "code",
   "execution_count": 22,
   "id": "772d35bc-174c-4d51-8441-5aaaf8fc98f8",
   "metadata": {
    "ExecuteTime": {
     "end_time": "2022-12-26T15:45:35.812377Z",
     "start_time": "2022-12-26T15:45:35.807102Z"
    }
   },
   "outputs": [],
   "source": [
    "submit['N_category'] = preds\n",
    "submit.to_csv('./baseline.csv', index=False)"
   ]
  },
  {
   "cell_type": "code",
   "execution_count": null,
   "id": "dc19114c",
   "metadata": {},
   "outputs": [],
   "source": [
    " "
   ]
  }
 ],
 "metadata": {
  "kernelspec": {
   "display_name": "Python 3 (ipykernel)",
   "language": "python",
   "name": "python3"
  },
  "language_info": {
   "codemirror_mode": {
    "name": "ipython",
    "version": 3
   },
   "file_extension": ".py",
   "mimetype": "text/x-python",
   "name": "python",
   "nbconvert_exporter": "python",
   "pygments_lexer": "ipython3",
   "version": "3.8.15"
  },
  "toc": {
   "base_numbering": 1,
   "nav_menu": {
    "height": "144px",
    "width": "160px"
   },
   "number_sections": true,
   "sideBar": true,
   "skip_h1_title": false,
   "title_cell": "Table of Contents",
   "title_sidebar": "Contents",
   "toc_cell": false,
   "toc_position": {
    "height": "calc(100% - 180px)",
    "left": "10px",
    "top": "150px",
    "width": "282.796875px"
   },
   "toc_section_display": true,
   "toc_window_display": true
  }
 },
 "nbformat": 4,
 "nbformat_minor": 5
}
